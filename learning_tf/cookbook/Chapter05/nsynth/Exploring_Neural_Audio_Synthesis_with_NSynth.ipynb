{
 "cells": [
  {
   "cell_type": "markdown",
   "metadata": {},
   "source": [
    "# Exploring Neural Audio Synthesis with NSynth\n",
    "\n",
    "## Parag Mital"
   ]
  },
  {
   "cell_type": "markdown",
   "metadata": {},
   "source": [
    "There is a lot to explore with NSynth.  This notebook explores just a taste of what's possible including how to encode and decode, timestretch, and interpolate sounds.  Also check out the [blog post](https://magenta.tensorflow.org/nsynth-fastgen) for more examples including two compositions created with Ableton Live.  If you are interested in learning more, checkout my [online course on Kadenze](https://www.kadenze.com/programs/creative-applications-of-deep-learning-with-tensorflow) where we talk about Magenta and NSynth in more depth."
   ]
  },
  {
   "cell_type": "markdown",
   "metadata": {},
   "source": [
    "## Part 1: Encoding and Decoding\n",
    "\n",
    "We'll walkthrough using the source code to encode and decode some audio.  This is the most basic thing we can do with NSynth, and it will take at least about 6 minutes per 1 second of audio to perform on a GPU, though this will get faster!\n",
    "\n",
    "I'll first show you how to encode some audio.  This is basically saying, here is some audio, now put it into the trained model.  It's like the encoding of an MP3 file.  It takes some raw audio, and represents it using some really reduced down representation of the raw audio.  NSynth works similarly, but we can actually mess with the encoding to do some awesome stuff.  You can for instance, mix it with other encodings, or slow it down, or speed it up.  You can potentially even remove parts of it, mix many different encodings together, and hopefully just explore ideas yet to be thought of.  After you've created your encoding, you have to just generate, or decode it, just like what an audio player does to an MP3 file.\n",
    "\n",
    "First, to install Magenta, follow their setup guide here: https://github.com/tensorflow/magenta#installation - then import some packages:"
   ]
  },
  {
   "cell_type": "code",
   "execution_count": 1,
   "metadata": {
    "collapsed": true
   },
   "outputs": [],
   "source": [
    "import os\n",
    "import numpy as np\n",
    "import matplotlib.pyplot as plt\n",
    "from magenta.models.nsynth import utils\n",
    "from magenta.models.nsynth.wavenet import fastgen\n",
    "from IPython.display import Audio\n",
    "%matplotlib inline\n",
    "%config InlineBackend.figure_format = 'jpg'"
   ]
  },
  {
   "cell_type": "markdown",
   "metadata": {},
   "source": [
    "Now we'll load up a sound I downloaded from freesound.org.  The `utils.load_audio` method will resample this to the required sample rate of 16000.  I'll load in 40000 samples of this beat which should end up being a pretty good loop:"
   ]
  },
  {
   "cell_type": "code",
   "execution_count": 2,
   "metadata": {},
   "outputs": [
    {
     "name": "stdout",
     "output_type": "stream",
     "text": [
      "40000 samples, 2.5 seconds\n"
     ]
    }
   ],
   "source": [
    "# from https://www.freesound.org/people/MustardPlug/sounds/395058/\n",
    "fname = '395058__mustardplug__breakbeat-hiphop-a4-4bar-96bpm.wav'\n",
    "sr = 16000\n",
    "audio = utils.load_audio(fname, sample_length=40000, sr=sr)\n",
    "sample_length = audio.shape[0]\n",
    "print('{} samples, {} seconds'.format(sample_length, sample_length / float(sr)))"
   ]
  },
  {
   "cell_type": "markdown",
   "metadata": {},
   "source": [
    "## Encoding\n",
    "\n",
    "We'll now encode some audio using the pre-trained NSynth model (download from: http://download.magenta.tensorflow.org/models/nsynth/wavenet-ckpt.tar).  This is pretty fast, and takes about 3 seconds per 1 second of audio on my NVidia 1080 GPU.  This will give us a 125 x 16 dimension encoding for every 4 seconds of audio which we can then decode, or resynthesize.  We'll try a few things, including just leaving it alone and reconstructing it as is.  But then we'll also try some fun transformations of the encoding and see what's possible from there.\n",
    "\n",
    "```help(fastgen.encode)\n",
    "Help on function encode in module magenta.models.nsynth.wavenet.fastgen:\n",
    "\n",
    "encode(wav_data, checkpoint_path, sample_length=64000)\n",
    "    Generate an array of embeddings from an array of audio.\n",
    "      Args:\n",
    "        wav_data: Numpy array [batch_size, sample_length]\n",
    "        checkpoint_path: Location of the pretrained model.\n",
    "        sample_length: The total length of the final wave file, padded with 0s.\n",
    "      Returns:\n",
    "        encoding: a [mb, 125, 16] encoding (for 64000 sample audio file).\n",
    "```"
   ]
  },
  {
   "cell_type": "code",
   "execution_count": 3,
   "metadata": {},
   "outputs": [
    {
     "name": "stdout",
     "output_type": "stream",
     "text": [
      "INFO:tensorflow:Restoring parameters from model.ckpt-200000\n",
      "CPU times: user 1min 4s, sys: 3.23 s, total: 1min 7s\n",
      "Wall time: 26.1 s\n"
     ]
    }
   ],
   "source": [
    "%time encoding = fastgen.encode(audio, 'model.ckpt-200000', sample_length)"
   ]
  },
  {
   "cell_type": "markdown",
   "metadata": {},
   "source": [
    "This returns a 3-dimensional tensor representing the encoding of the audio.  The first dimension of the encoding represents the batch dimension.  We could have passed in many audio files at once and the process would be much faster.  For now we've just passed in one audio file."
   ]
  },
  {
   "cell_type": "code",
   "execution_count": 4,
   "metadata": {},
   "outputs": [
    {
     "name": "stdout",
     "output_type": "stream",
     "text": [
      "(1, 78, 16)\n"
     ]
    }
   ],
   "source": [
    "print(encoding.shape)"
   ]
  },
  {
   "cell_type": "markdown",
   "metadata": {},
   "source": [
    "We'll also save the encoding so that we can use it again later:"
   ]
  },
  {
   "cell_type": "code",
   "execution_count": 5,
   "metadata": {
    "collapsed": true
   },
   "outputs": [],
   "source": [
    "np.save(fname + '.npy', encoding)"
   ]
  },
  {
   "cell_type": "markdown",
   "metadata": {},
   "source": [
    "Let's take a look at the encoding of this audio file.  Think of these as 16 channels of sounds all mixed together (though with a lot of caveats):"
   ]
  },
  {
   "cell_type": "code",
   "execution_count": 25,
   "metadata": {
    "scrolled": true
   },
   "outputs": [
    {
     "data": {
      "text/plain": [
       "<matplotlib.text.Text at 0x125966310>"
      ]
     },
     "execution_count": 25,
     "metadata": {},
     "output_type": "execute_result"
    },
    {
     "data": {
      "image/jpeg": "[encoded data removed]",
      "text/plain": [
       "<matplotlib.figure.Figure at 0x11ba6bf90>"
      ]
     },
     "metadata": {},
     "output_type": "display_data"
    }
   ],
   "source": [
    "fig, axs = plt.subplots(2, 1, figsize=(20, 7))\n",
    "axs[0].plot(audio);\n",
    "axs[0].set_title('Audio Signal')\n",
    "axs[1].plot(encoding[0]);\n",
    "axs[1].set_title('NSynth Encoding')"
   ]
  },
  {
   "cell_type": "markdown",
   "metadata": {},
   "source": [
    "You should be able to pretty clearly see a sort of beat like pattern in both the signal and the encoding."
   ]
  },
  {
   "cell_type": "code",
   "execution_count": 9,
   "metadata": {},
   "outputs": [
    {
     "data": {
      "text/plain": [
       "<matplotlib.text.Text at 0x11a9fad50>"
      ]
     },
     "execution_count": 9,
     "metadata": {},
     "output_type": "execute_result"
    }
   ],
   "source": [
    "axs[1].plot(encoding[0]);\n",
    "axs[1].set_title('NSynth Encoding')"
   ]
  },
  {
   "cell_type": "markdown",
   "metadata": {},
   "source": [
    "## Decoding\n",
    "\n",
    "Now we can decode the encodings as is.  This is the process that takes awhile, though it used to be so long that you wouldn't even dare trying it.  There is still plenty of room for improvement and I'm sure it will get faster very soon.\n",
    "\n",
    "```\n",
    "help(fastgen.synthesize)\n",
    "Help on function synthesize in module magenta.models.nsynth.wavenet.fastgen:\n",
    "\n",
    "synthesize(encodings, save_paths, checkpoint_path='model.ckpt-200000', samples_per_save=1000)\n",
    "    Synthesize audio from an array of embeddings.\n",
    "      Args:\n",
    "        encodings: Numpy array with shape [batch_size, time, dim].\n",
    "        save_paths: Iterable of output file names.\n",
    "        checkpoint_path: Location of the pretrained model. [model.ckpt-200000]\n",
    "        samples_per_save: Save files after every amount of generated samples.\n",
    "```        "
   ]
  },
  {
   "cell_type": "code",
   "execution_count": 10,
   "metadata": {
    "scrolled": true
   },
   "outputs": [
    {
     "name": "stdout",
     "output_type": "stream",
     "text": [
      "INFO:tensorflow:Restoring parameters from model.ckpt-200000\n",
      "INFO:tensorflow:Sample: 0\n",
      "INFO:tensorflow:Saving: gen_395058__mustardplug__breakbeat-hiphop-a4-4bar-96bpm.wav\n",
      "INFO:tensorflow:Sample: 100\n",
      "INFO:tensorflow:Sample: 200\n",
      "INFO:tensorflow:Sample: 300\n",
      "INFO:tensorflow:Sample: 400\n",
      "INFO:tensorflow:Sample: 500\n",
      "INFO:tensorflow:Sample: 600\n",
      "INFO:tensorflow:Sample: 700\n",
      "INFO:tensorflow:Sample: 800\n",
      "INFO:tensorflow:Sample: 900\n",
      "INFO:tensorflow:Sample: 1000\n",
      "INFO:tensorflow:Sample: 1100\n",
      "INFO:tensorflow:Sample: 1200\n",
      "INFO:tensorflow:Sample: 1300\n",
      "INFO:tensorflow:Sample: 1400\n",
      "INFO:tensorflow:Sample: 1500\n",
      "INFO:tensorflow:Sample: 1600\n",
      "INFO:tensorflow:Sample: 1700\n",
      "INFO:tensorflow:Sample: 1800\n",
      "INFO:tensorflow:Sample: 1900\n",
      "INFO:tensorflow:Sample: 2000\n",
      "INFO:tensorflow:Sample: 2100\n",
      "INFO:tensorflow:Sample: 2200\n",
      "INFO:tensorflow:Sample: 2300\n",
      "INFO:tensorflow:Sample: 2400\n",
      "INFO:tensorflow:Sample: 2500\n",
      "INFO:tensorflow:Sample: 2600\n",
      "INFO:tensorflow:Sample: 2700\n",
      "INFO:tensorflow:Sample: 2800\n",
      "INFO:tensorflow:Sample: 2900\n",
      "INFO:tensorflow:Sample: 3000\n",
      "INFO:tensorflow:Sample: 3100\n",
      "INFO:tensorflow:Sample: 3200\n",
      "INFO:tensorflow:Sample: 3300\n",
      "INFO:tensorflow:Sample: 3400\n",
      "INFO:tensorflow:Sample: 3500\n",
      "INFO:tensorflow:Sample: 3600\n",
      "INFO:tensorflow:Sample: 3700\n",
      "INFO:tensorflow:Sample: 3800\n",
      "INFO:tensorflow:Sample: 3900\n",
      "INFO:tensorflow:Sample: 4000\n",
      "INFO:tensorflow:Sample: 4100\n",
      "INFO:tensorflow:Sample: 4200\n",
      "INFO:tensorflow:Sample: 4300\n",
      "INFO:tensorflow:Sample: 4400\n",
      "INFO:tensorflow:Sample: 4500\n",
      "INFO:tensorflow:Sample: 4600\n",
      "INFO:tensorflow:Sample: 4700\n",
      "INFO:tensorflow:Sample: 4800\n",
      "INFO:tensorflow:Sample: 4900\n",
      "INFO:tensorflow:Sample: 5000\n",
      "INFO:tensorflow:Sample: 5100\n",
      "INFO:tensorflow:Sample: 5200\n",
      "INFO:tensorflow:Sample: 5300\n",
      "INFO:tensorflow:Sample: 5400\n",
      "INFO:tensorflow:Sample: 5500\n",
      "INFO:tensorflow:Sample: 5600\n",
      "INFO:tensorflow:Sample: 5700\n",
      "INFO:tensorflow:Sample: 5800\n",
      "INFO:tensorflow:Sample: 5900\n",
      "INFO:tensorflow:Sample: 6000\n",
      "INFO:tensorflow:Sample: 6100\n",
      "INFO:tensorflow:Sample: 6200\n",
      "INFO:tensorflow:Sample: 6300\n",
      "INFO:tensorflow:Sample: 6400\n",
      "INFO:tensorflow:Sample: 6500\n",
      "INFO:tensorflow:Sample: 6600\n",
      "INFO:tensorflow:Sample: 6700\n",
      "INFO:tensorflow:Sample: 6800\n",
      "INFO:tensorflow:Sample: 6900\n",
      "INFO:tensorflow:Sample: 7000\n",
      "INFO:tensorflow:Sample: 7100\n",
      "INFO:tensorflow:Sample: 7200\n",
      "INFO:tensorflow:Sample: 7300\n",
      "INFO:tensorflow:Sample: 7400\n",
      "INFO:tensorflow:Sample: 7500\n",
      "INFO:tensorflow:Sample: 7600\n",
      "INFO:tensorflow:Sample: 7700\n",
      "INFO:tensorflow:Sample: 7800\n",
      "INFO:tensorflow:Sample: 7900\n",
      "INFO:tensorflow:Sample: 8000\n",
      "INFO:tensorflow:Sample: 8100\n",
      "INFO:tensorflow:Sample: 8200\n",
      "INFO:tensorflow:Sample: 8300\n",
      "INFO:tensorflow:Sample: 8400\n",
      "INFO:tensorflow:Sample: 8500\n",
      "INFO:tensorflow:Sample: 8600\n",
      "INFO:tensorflow:Sample: 8700\n",
      "INFO:tensorflow:Sample: 8800\n",
      "INFO:tensorflow:Sample: 8900\n",
      "INFO:tensorflow:Sample: 9000\n",
      "INFO:tensorflow:Sample: 9100\n",
      "INFO:tensorflow:Sample: 9200\n",
      "INFO:tensorflow:Sample: 9300\n",
      "INFO:tensorflow:Sample: 9400\n",
      "INFO:tensorflow:Sample: 9500\n",
      "INFO:tensorflow:Sample: 9600\n",
      "INFO:tensorflow:Sample: 9700\n",
      "INFO:tensorflow:Sample: 9800\n",
      "INFO:tensorflow:Sample: 9900\n",
      "INFO:tensorflow:Sample: 10000\n",
      "INFO:tensorflow:Sample: 10100\n",
      "INFO:tensorflow:Sample: 10200\n",
      "INFO:tensorflow:Sample: 10300\n",
      "INFO:tensorflow:Sample: 10400\n",
      "INFO:tensorflow:Sample: 10500\n",
      "INFO:tensorflow:Sample: 10600\n",
      "INFO:tensorflow:Sample: 10700\n",
      "INFO:tensorflow:Sample: 10800\n",
      "INFO:tensorflow:Sample: 10900\n",
      "INFO:tensorflow:Sample: 11000\n",
      "INFO:tensorflow:Sample: 11100\n",
      "INFO:tensorflow:Sample: 11200\n",
      "INFO:tensorflow:Sample: 11300\n",
      "INFO:tensorflow:Sample: 11400\n",
      "INFO:tensorflow:Sample: 11500\n",
      "INFO:tensorflow:Sample: 11600\n",
      "INFO:tensorflow:Sample: 11700\n",
      "INFO:tensorflow:Sample: 11800\n",
      "INFO:tensorflow:Sample: 11900\n",
      "INFO:tensorflow:Sample: 12000\n",
      "INFO:tensorflow:Sample: 12100\n",
      "INFO:tensorflow:Sample: 12200\n",
      "INFO:tensorflow:Sample: 12300\n",
      "INFO:tensorflow:Sample: 12400\n",
      "INFO:tensorflow:Sample: 12500\n",
      "INFO:tensorflow:Sample: 12600\n",
      "INFO:tensorflow:Sample: 12700\n",
      "INFO:tensorflow:Sample: 12800\n",
      "INFO:tensorflow:Sample: 12900\n",
      "INFO:tensorflow:Sample: 13000\n",
      "INFO:tensorflow:Sample: 13100\n",
      "INFO:tensorflow:Sample: 13200\n",
      "INFO:tensorflow:Sample: 13300\n",
      "INFO:tensorflow:Sample: 13400\n",
      "INFO:tensorflow:Sample: 13500\n",
      "INFO:tensorflow:Sample: 13600\n",
      "INFO:tensorflow:Sample: 13700\n",
      "INFO:tensorflow:Sample: 13800\n",
      "INFO:tensorflow:Sample: 13900\n",
      "INFO:tensorflow:Sample: 14000\n",
      "INFO:tensorflow:Sample: 14100\n",
      "INFO:tensorflow:Sample: 14200\n",
      "INFO:tensorflow:Sample: 14300\n",
      "INFO:tensorflow:Sample: 14400\n",
      "INFO:tensorflow:Sample: 14500\n",
      "INFO:tensorflow:Sample: 14600\n",
      "INFO:tensorflow:Sample: 14700\n",
      "INFO:tensorflow:Sample: 14800\n",
      "INFO:tensorflow:Sample: 14900\n",
      "INFO:tensorflow:Sample: 15000\n",
      "INFO:tensorflow:Sample: 15100\n",
      "INFO:tensorflow:Sample: 15200\n",
      "INFO:tensorflow:Sample: 15300\n",
      "INFO:tensorflow:Sample: 15400\n",
      "INFO:tensorflow:Sample: 15500\n",
      "INFO:tensorflow:Sample: 15600\n",
      "INFO:tensorflow:Sample: 15700\n",
      "INFO:tensorflow:Sample: 15800\n",
      "INFO:tensorflow:Sample: 15900\n",
      "INFO:tensorflow:Sample: 16000\n",
      "INFO:tensorflow:Sample: 16100\n",
      "INFO:tensorflow:Sample: 16200\n",
      "INFO:tensorflow:Sample: 16300\n",
      "INFO:tensorflow:Sample: 16400\n",
      "INFO:tensorflow:Sample: 16500\n",
      "INFO:tensorflow:Sample: 16600\n",
      "INFO:tensorflow:Sample: 16700\n",
      "INFO:tensorflow:Sample: 16800\n",
      "INFO:tensorflow:Sample: 16900\n",
      "INFO:tensorflow:Sample: 17000\n",
      "INFO:tensorflow:Sample: 17100\n",
      "INFO:tensorflow:Sample: 17200\n",
      "INFO:tensorflow:Sample: 17300\n",
      "INFO:tensorflow:Sample: 17400\n",
      "INFO:tensorflow:Sample: 17500\n",
      "INFO:tensorflow:Sample: 17600\n",
      "INFO:tensorflow:Sample: 17700\n",
      "INFO:tensorflow:Sample: 17800\n",
      "INFO:tensorflow:Sample: 17900\n",
      "INFO:tensorflow:Sample: 18000\n",
      "INFO:tensorflow:Sample: 18100\n",
      "INFO:tensorflow:Sample: 18200\n",
      "INFO:tensorflow:Sample: 18300\n",
      "INFO:tensorflow:Sample: 18400\n",
      "INFO:tensorflow:Sample: 18500\n",
      "INFO:tensorflow:Sample: 18600\n",
      "INFO:tensorflow:Sample: 18700\n",
      "INFO:tensorflow:Sample: 18800\n",
      "INFO:tensorflow:Sample: 18900\n",
      "INFO:tensorflow:Sample: 19000\n",
      "INFO:tensorflow:Sample: 19100\n",
      "INFO:tensorflow:Sample: 19200\n",
      "INFO:tensorflow:Sample: 19300\n",
      "INFO:tensorflow:Sample: 19400\n",
      "INFO:tensorflow:Sample: 19500\n",
      "INFO:tensorflow:Sample: 19600\n",
      "INFO:tensorflow:Sample: 19700\n",
      "INFO:tensorflow:Sample: 19800\n",
      "INFO:tensorflow:Sample: 19900\n",
      "INFO:tensorflow:Sample: 20000\n",
      "INFO:tensorflow:Sample: 20100\n",
      "INFO:tensorflow:Sample: 20200\n",
      "INFO:tensorflow:Sample: 20300\n",
      "INFO:tensorflow:Sample: 20400\n",
      "INFO:tensorflow:Sample: 20500\n",
      "INFO:tensorflow:Sample: 20600\n",
      "INFO:tensorflow:Sample: 20700\n",
      "INFO:tensorflow:Sample: 20800\n",
      "INFO:tensorflow:Sample: 20900\n",
      "INFO:tensorflow:Sample: 21000\n",
      "INFO:tensorflow:Sample: 21100\n",
      "INFO:tensorflow:Sample: 21200\n",
      "INFO:tensorflow:Sample: 21300\n",
      "INFO:tensorflow:Sample: 21400\n",
      "INFO:tensorflow:Sample: 21500\n",
      "INFO:tensorflow:Sample: 21600\n",
      "INFO:tensorflow:Sample: 21700\n",
      "INFO:tensorflow:Sample: 21800\n",
      "INFO:tensorflow:Sample: 21900\n",
      "INFO:tensorflow:Sample: 22000\n",
      "INFO:tensorflow:Sample: 22100\n",
      "INFO:tensorflow:Sample: 22200\n",
      "INFO:tensorflow:Sample: 22300\n",
      "INFO:tensorflow:Sample: 22400\n",
      "INFO:tensorflow:Sample: 22500\n",
      "INFO:tensorflow:Sample: 22600\n",
      "INFO:tensorflow:Sample: 22700\n",
      "INFO:tensorflow:Sample: 22800\n",
      "INFO:tensorflow:Sample: 22900\n",
      "INFO:tensorflow:Sample: 23000\n",
      "INFO:tensorflow:Sample: 23100\n",
      "INFO:tensorflow:Sample: 23200\n",
      "INFO:tensorflow:Sample: 23300\n",
      "INFO:tensorflow:Sample: 23400\n",
      "INFO:tensorflow:Sample: 23500\n",
      "INFO:tensorflow:Sample: 23600\n",
      "INFO:tensorflow:Sample: 23700\n",
      "INFO:tensorflow:Sample: 23800\n",
      "INFO:tensorflow:Sample: 23900\n",
      "INFO:tensorflow:Sample: 24000\n",
      "INFO:tensorflow:Sample: 24100\n",
      "INFO:tensorflow:Sample: 24200\n",
      "INFO:tensorflow:Sample: 24300\n",
      "INFO:tensorflow:Sample: 24400\n",
      "INFO:tensorflow:Sample: 24500\n",
      "INFO:tensorflow:Sample: 24600\n",
      "INFO:tensorflow:Sample: 24700\n",
      "INFO:tensorflow:Sample: 24800\n",
      "INFO:tensorflow:Sample: 24900\n",
      "INFO:tensorflow:Sample: 25000\n",
      "INFO:tensorflow:Sample: 25100\n",
      "INFO:tensorflow:Sample: 25200\n",
      "INFO:tensorflow:Sample: 25300\n",
      "INFO:tensorflow:Sample: 25400\n",
      "INFO:tensorflow:Sample: 25500\n",
      "INFO:tensorflow:Sample: 25600\n",
      "INFO:tensorflow:Sample: 25700\n",
      "INFO:tensorflow:Sample: 25800\n",
      "INFO:tensorflow:Sample: 25900\n",
      "INFO:tensorflow:Sample: 26000\n",
      "INFO:tensorflow:Sample: 26100\n",
      "INFO:tensorflow:Sample: 26200\n",
      "INFO:tensorflow:Sample: 26300\n",
      "INFO:tensorflow:Sample: 26400\n",
      "INFO:tensorflow:Sample: 26500\n",
      "INFO:tensorflow:Sample: 26600\n",
      "INFO:tensorflow:Sample: 26700\n",
      "INFO:tensorflow:Sample: 26800\n",
      "INFO:tensorflow:Sample: 26900\n",
      "INFO:tensorflow:Sample: 27000\n",
      "INFO:tensorflow:Sample: 27100\n",
      "INFO:tensorflow:Sample: 27200\n"
     ]
    },
    {
     "name": "stdout",
     "output_type": "stream",
     "text": [
      "INFO:tensorflow:Sample: 27300\n",
      "INFO:tensorflow:Sample: 27400\n",
      "INFO:tensorflow:Sample: 27500\n",
      "INFO:tensorflow:Sample: 27600\n",
      "INFO:tensorflow:Sample: 27700\n",
      "INFO:tensorflow:Sample: 27800\n",
      "INFO:tensorflow:Sample: 27900\n",
      "INFO:tensorflow:Sample: 28000\n",
      "INFO:tensorflow:Sample: 28100\n",
      "INFO:tensorflow:Sample: 28200\n",
      "INFO:tensorflow:Sample: 28300\n",
      "INFO:tensorflow:Sample: 28400\n",
      "INFO:tensorflow:Sample: 28500\n",
      "INFO:tensorflow:Sample: 28600\n",
      "INFO:tensorflow:Sample: 28700\n",
      "INFO:tensorflow:Sample: 28800\n",
      "INFO:tensorflow:Sample: 28900\n",
      "INFO:tensorflow:Sample: 29000\n",
      "INFO:tensorflow:Sample: 29100\n",
      "INFO:tensorflow:Sample: 29200\n",
      "INFO:tensorflow:Sample: 29300\n",
      "INFO:tensorflow:Sample: 29400\n",
      "INFO:tensorflow:Sample: 29500\n",
      "INFO:tensorflow:Sample: 29600\n",
      "INFO:tensorflow:Sample: 29700\n",
      "INFO:tensorflow:Sample: 29800\n",
      "INFO:tensorflow:Sample: 29900\n",
      "INFO:tensorflow:Sample: 30000\n",
      "INFO:tensorflow:Sample: 30100\n",
      "INFO:tensorflow:Sample: 30200\n",
      "INFO:tensorflow:Sample: 30300\n",
      "INFO:tensorflow:Sample: 30400\n",
      "INFO:tensorflow:Sample: 30500\n",
      "INFO:tensorflow:Sample: 30600\n",
      "INFO:tensorflow:Sample: 30700\n",
      "INFO:tensorflow:Sample: 30800\n",
      "INFO:tensorflow:Sample: 30900\n",
      "INFO:tensorflow:Sample: 31000\n",
      "INFO:tensorflow:Sample: 31100\n",
      "INFO:tensorflow:Sample: 31200\n",
      "INFO:tensorflow:Sample: 31300\n",
      "INFO:tensorflow:Sample: 31400\n",
      "INFO:tensorflow:Sample: 31500\n",
      "INFO:tensorflow:Sample: 31600\n",
      "INFO:tensorflow:Sample: 31700\n",
      "INFO:tensorflow:Sample: 31800\n",
      "INFO:tensorflow:Sample: 31900\n",
      "INFO:tensorflow:Sample: 32000\n",
      "INFO:tensorflow:Sample: 32100\n",
      "INFO:tensorflow:Sample: 32200\n",
      "INFO:tensorflow:Sample: 32300\n",
      "INFO:tensorflow:Sample: 32400\n",
      "INFO:tensorflow:Sample: 32500\n",
      "INFO:tensorflow:Sample: 32600\n",
      "INFO:tensorflow:Sample: 32700\n",
      "INFO:tensorflow:Sample: 32800\n",
      "INFO:tensorflow:Sample: 32900\n",
      "INFO:tensorflow:Sample: 33000\n",
      "INFO:tensorflow:Sample: 33100\n",
      "INFO:tensorflow:Sample: 33200\n",
      "INFO:tensorflow:Sample: 33300\n",
      "INFO:tensorflow:Sample: 33400\n",
      "INFO:tensorflow:Sample: 33500\n",
      "INFO:tensorflow:Sample: 33600\n",
      "INFO:tensorflow:Sample: 33700\n",
      "INFO:tensorflow:Sample: 33800\n",
      "INFO:tensorflow:Sample: 33900\n",
      "INFO:tensorflow:Sample: 34000\n",
      "INFO:tensorflow:Sample: 34100\n",
      "INFO:tensorflow:Sample: 34200\n",
      "INFO:tensorflow:Sample: 34300\n",
      "INFO:tensorflow:Sample: 34400\n",
      "INFO:tensorflow:Sample: 34500\n",
      "INFO:tensorflow:Sample: 34600\n",
      "INFO:tensorflow:Sample: 34700\n",
      "INFO:tensorflow:Sample: 34800\n",
      "INFO:tensorflow:Sample: 34900\n",
      "INFO:tensorflow:Sample: 35000\n",
      "INFO:tensorflow:Sample: 35100\n",
      "INFO:tensorflow:Sample: 35200\n",
      "INFO:tensorflow:Sample: 35300\n",
      "INFO:tensorflow:Sample: 35400\n",
      "INFO:tensorflow:Sample: 35500\n",
      "INFO:tensorflow:Sample: 35600\n",
      "INFO:tensorflow:Sample: 35700\n",
      "INFO:tensorflow:Sample: 35800\n",
      "INFO:tensorflow:Sample: 35900\n",
      "INFO:tensorflow:Sample: 36000\n",
      "INFO:tensorflow:Sample: 36100\n",
      "INFO:tensorflow:Sample: 36200\n",
      "INFO:tensorflow:Sample: 36300\n",
      "INFO:tensorflow:Sample: 36400\n",
      "INFO:tensorflow:Sample: 36500\n",
      "INFO:tensorflow:Sample: 36600\n",
      "INFO:tensorflow:Sample: 36700\n",
      "INFO:tensorflow:Sample: 36800\n",
      "INFO:tensorflow:Sample: 36900\n",
      "INFO:tensorflow:Sample: 37000\n",
      "INFO:tensorflow:Sample: 37100\n",
      "INFO:tensorflow:Sample: 37200\n",
      "INFO:tensorflow:Sample: 37300\n",
      "INFO:tensorflow:Sample: 37400\n",
      "INFO:tensorflow:Sample: 37500\n",
      "INFO:tensorflow:Sample: 37600\n",
      "INFO:tensorflow:Sample: 37700\n",
      "INFO:tensorflow:Sample: 37800\n",
      "INFO:tensorflow:Sample: 37900\n",
      "INFO:tensorflow:Sample: 38000\n",
      "INFO:tensorflow:Sample: 38100\n",
      "INFO:tensorflow:Sample: 38200\n",
      "INFO:tensorflow:Sample: 38300\n",
      "INFO:tensorflow:Sample: 38400\n",
      "INFO:tensorflow:Sample: 38500\n",
      "INFO:tensorflow:Sample: 38600\n",
      "INFO:tensorflow:Sample: 38700\n",
      "INFO:tensorflow:Sample: 38800\n",
      "INFO:tensorflow:Sample: 38900\n",
      "INFO:tensorflow:Sample: 39000\n",
      "INFO:tensorflow:Sample: 39100\n",
      "INFO:tensorflow:Sample: 39200\n",
      "INFO:tensorflow:Sample: 39300\n",
      "INFO:tensorflow:Sample: 39400\n",
      "INFO:tensorflow:Sample: 39500\n",
      "INFO:tensorflow:Sample: 39600\n",
      "INFO:tensorflow:Sample: 39700\n",
      "INFO:tensorflow:Sample: 39800\n",
      "INFO:tensorflow:Sample: 39900\n",
      "INFO:tensorflow:Saving: gen_395058__mustardplug__breakbeat-hiphop-a4-4bar-96bpm.wav\n",
      "CPU times: user 1h 15min 10s, sys: 19min 2s, total: 1h 34min 12s\n",
      "Wall time: 24min 8s\n"
     ]
    }
   ],
   "source": [
    "%time fastgen.synthesize(encoding, save_paths=['gen_' + fname], samples_per_save=sample_length)"
   ]
  },
  {
   "cell_type": "markdown",
   "metadata": {},
   "source": [
    "After it's done synthesizing, we can see that takes about 6 minutes per 1 second of audio on a non-optimized version of Tensorflow for GPU on an NVidia 1080 GPU.  We can speed things up considerably if we want to do multiple encodings at a time.  We'll see that in just a moment.  Let's first listen to the synthesized audio:"
   ]
  },
  {
   "cell_type": "code",
   "execution_count": 11,
   "metadata": {
    "collapsed": true
   },
   "outputs": [],
   "source": [
    "sr = 16000\n",
    "synthesis = utils.load_audio('gen_' + fname, sample_length=sample_length, sr=sr)"
   ]
  },
  {
   "cell_type": "markdown",
   "metadata": {},
   "source": [
    "Listening to the audio, the sounds are definitely different.  NSynth seems to apply a sort of gobbly low-pass  that also really doesn't know what to do with the high frequencies.  It is really quite hard to describe, but that is what is so interesting about it.  It has a recognizable, characteristic sound.\n",
    "\n",
    "Let's try another one.  I'll put the whole workflow for synthesis in two cells, and we can listen to another synthesis of a vocalist singing, \"Laaaa\":"
   ]
  },
  {
   "cell_type": "code",
   "execution_count": 12,
   "metadata": {
    "collapsed": true
   },
   "outputs": [],
   "source": [
    "def load_encoding(fname, sample_length=None, sr=16000, ckpt='model.ckpt-200000'):\n",
    "    audio = utils.load_audio(fname, sample_length=sample_length, sr=sr)\n",
    "    encoding = fastgen.encode(audio, ckpt, sample_length)\n",
    "    return audio, encoding"
   ]
  },
  {
   "cell_type": "code",
   "execution_count": 13,
   "metadata": {},
   "outputs": [
    {
     "name": "stdout",
     "output_type": "stream",
     "text": [
      "INFO:tensorflow:Restoring parameters from model.ckpt-200000\n",
      "INFO:tensorflow:Restoring parameters from model.ckpt-200000\n",
      "INFO:tensorflow:Sample: 0\n",
      "INFO:tensorflow:Saving: gen_213259__maurolupo__girl-sings-laa.wav\n",
      "INFO:tensorflow:Sample: 100\n",
      "INFO:tensorflow:Sample: 200\n",
      "INFO:tensorflow:Sample: 300\n",
      "INFO:tensorflow:Sample: 400\n",
      "INFO:tensorflow:Sample: 500\n",
      "INFO:tensorflow:Sample: 600\n",
      "INFO:tensorflow:Sample: 700\n",
      "INFO:tensorflow:Sample: 800\n",
      "INFO:tensorflow:Sample: 900\n",
      "INFO:tensorflow:Sample: 1000\n",
      "INFO:tensorflow:Sample: 1100\n",
      "INFO:tensorflow:Sample: 1200\n",
      "INFO:tensorflow:Sample: 1300\n",
      "INFO:tensorflow:Sample: 1400\n",
      "INFO:tensorflow:Sample: 1500\n",
      "INFO:tensorflow:Sample: 1600\n",
      "INFO:tensorflow:Sample: 1700\n",
      "INFO:tensorflow:Sample: 1800\n",
      "INFO:tensorflow:Sample: 1900\n",
      "INFO:tensorflow:Sample: 2000\n",
      "INFO:tensorflow:Sample: 2100\n",
      "INFO:tensorflow:Sample: 2200\n",
      "INFO:tensorflow:Sample: 2300\n",
      "INFO:tensorflow:Sample: 2400\n",
      "INFO:tensorflow:Sample: 2500\n",
      "INFO:tensorflow:Sample: 2600\n",
      "INFO:tensorflow:Sample: 2700\n",
      "INFO:tensorflow:Sample: 2800\n",
      "INFO:tensorflow:Sample: 2900\n",
      "INFO:tensorflow:Sample: 3000\n",
      "INFO:tensorflow:Sample: 3100\n",
      "INFO:tensorflow:Sample: 3200\n",
      "INFO:tensorflow:Sample: 3300\n",
      "INFO:tensorflow:Sample: 3400\n",
      "INFO:tensorflow:Sample: 3500\n",
      "INFO:tensorflow:Sample: 3600\n",
      "INFO:tensorflow:Sample: 3700\n",
      "INFO:tensorflow:Sample: 3800\n",
      "INFO:tensorflow:Sample: 3900\n",
      "INFO:tensorflow:Sample: 4000\n",
      "INFO:tensorflow:Sample: 4100\n",
      "INFO:tensorflow:Sample: 4200\n",
      "INFO:tensorflow:Sample: 4300\n",
      "INFO:tensorflow:Sample: 4400\n",
      "INFO:tensorflow:Sample: 4500\n",
      "INFO:tensorflow:Sample: 4600\n",
      "INFO:tensorflow:Sample: 4700\n",
      "INFO:tensorflow:Sample: 4800\n",
      "INFO:tensorflow:Sample: 4900\n",
      "INFO:tensorflow:Sample: 5000\n",
      "INFO:tensorflow:Sample: 5100\n",
      "INFO:tensorflow:Sample: 5200\n",
      "INFO:tensorflow:Sample: 5300\n",
      "INFO:tensorflow:Sample: 5400\n",
      "INFO:tensorflow:Sample: 5500\n",
      "INFO:tensorflow:Sample: 5600\n",
      "INFO:tensorflow:Sample: 5700\n",
      "INFO:tensorflow:Sample: 5800\n",
      "INFO:tensorflow:Sample: 5900\n",
      "INFO:tensorflow:Sample: 6000\n",
      "INFO:tensorflow:Sample: 6100\n",
      "INFO:tensorflow:Sample: 6200\n",
      "INFO:tensorflow:Sample: 6300\n",
      "INFO:tensorflow:Sample: 6400\n",
      "INFO:tensorflow:Sample: 6500\n",
      "INFO:tensorflow:Sample: 6600\n",
      "INFO:tensorflow:Sample: 6700\n",
      "INFO:tensorflow:Sample: 6800\n",
      "INFO:tensorflow:Sample: 6900\n",
      "INFO:tensorflow:Sample: 7000\n",
      "INFO:tensorflow:Sample: 7100\n",
      "INFO:tensorflow:Sample: 7200\n",
      "INFO:tensorflow:Sample: 7300\n",
      "INFO:tensorflow:Sample: 7400\n",
      "INFO:tensorflow:Sample: 7500\n",
      "INFO:tensorflow:Sample: 7600\n",
      "INFO:tensorflow:Sample: 7700\n",
      "INFO:tensorflow:Sample: 7800\n",
      "INFO:tensorflow:Sample: 7900\n",
      "INFO:tensorflow:Sample: 8000\n",
      "INFO:tensorflow:Sample: 8100\n",
      "INFO:tensorflow:Sample: 8200\n",
      "INFO:tensorflow:Sample: 8300\n",
      "INFO:tensorflow:Sample: 8400\n",
      "INFO:tensorflow:Sample: 8500\n",
      "INFO:tensorflow:Sample: 8600\n",
      "INFO:tensorflow:Sample: 8700\n",
      "INFO:tensorflow:Sample: 8800\n",
      "INFO:tensorflow:Sample: 8900\n",
      "INFO:tensorflow:Sample: 9000\n",
      "INFO:tensorflow:Sample: 9100\n",
      "INFO:tensorflow:Sample: 9200\n",
      "INFO:tensorflow:Sample: 9300\n",
      "INFO:tensorflow:Sample: 9400\n",
      "INFO:tensorflow:Sample: 9500\n",
      "INFO:tensorflow:Sample: 9600\n",
      "INFO:tensorflow:Sample: 9700\n",
      "INFO:tensorflow:Sample: 9800\n",
      "INFO:tensorflow:Sample: 9900\n",
      "INFO:tensorflow:Sample: 10000\n",
      "INFO:tensorflow:Sample: 10100\n",
      "INFO:tensorflow:Sample: 10200\n",
      "INFO:tensorflow:Sample: 10300\n",
      "INFO:tensorflow:Sample: 10400\n",
      "INFO:tensorflow:Sample: 10500\n",
      "INFO:tensorflow:Sample: 10600\n",
      "INFO:tensorflow:Sample: 10700\n",
      "INFO:tensorflow:Sample: 10800\n",
      "INFO:tensorflow:Sample: 10900\n",
      "INFO:tensorflow:Sample: 11000\n",
      "INFO:tensorflow:Sample: 11100\n",
      "INFO:tensorflow:Sample: 11200\n",
      "INFO:tensorflow:Sample: 11300\n",
      "INFO:tensorflow:Sample: 11400\n",
      "INFO:tensorflow:Sample: 11500\n",
      "INFO:tensorflow:Sample: 11600\n",
      "INFO:tensorflow:Sample: 11700\n",
      "INFO:tensorflow:Sample: 11800\n",
      "INFO:tensorflow:Sample: 11900\n",
      "INFO:tensorflow:Sample: 12000\n",
      "INFO:tensorflow:Sample: 12100\n",
      "INFO:tensorflow:Sample: 12200\n",
      "INFO:tensorflow:Sample: 12300\n",
      "INFO:tensorflow:Sample: 12400\n",
      "INFO:tensorflow:Sample: 12500\n",
      "INFO:tensorflow:Sample: 12600\n",
      "INFO:tensorflow:Sample: 12700\n",
      "INFO:tensorflow:Sample: 12800\n",
      "INFO:tensorflow:Sample: 12900\n",
      "INFO:tensorflow:Sample: 13000\n",
      "INFO:tensorflow:Sample: 13100\n",
      "INFO:tensorflow:Sample: 13200\n",
      "INFO:tensorflow:Sample: 13300\n",
      "INFO:tensorflow:Sample: 13400\n",
      "INFO:tensorflow:Sample: 13500\n",
      "INFO:tensorflow:Sample: 13600\n",
      "INFO:tensorflow:Sample: 13700\n",
      "INFO:tensorflow:Sample: 13800\n",
      "INFO:tensorflow:Sample: 13900\n",
      "INFO:tensorflow:Sample: 14000\n",
      "INFO:tensorflow:Sample: 14100\n",
      "INFO:tensorflow:Sample: 14200\n",
      "INFO:tensorflow:Sample: 14300\n",
      "INFO:tensorflow:Sample: 14400\n",
      "INFO:tensorflow:Sample: 14500\n",
      "INFO:tensorflow:Sample: 14600\n",
      "INFO:tensorflow:Sample: 14700\n",
      "INFO:tensorflow:Sample: 14800\n",
      "INFO:tensorflow:Sample: 14900\n",
      "INFO:tensorflow:Sample: 15000\n",
      "INFO:tensorflow:Sample: 15100\n",
      "INFO:tensorflow:Sample: 15200\n",
      "INFO:tensorflow:Sample: 15300\n",
      "INFO:tensorflow:Sample: 15400\n",
      "INFO:tensorflow:Sample: 15500\n",
      "INFO:tensorflow:Sample: 15600\n",
      "INFO:tensorflow:Sample: 15700\n",
      "INFO:tensorflow:Sample: 15800\n",
      "INFO:tensorflow:Sample: 15900\n",
      "INFO:tensorflow:Sample: 16000\n",
      "INFO:tensorflow:Sample: 16100\n",
      "INFO:tensorflow:Sample: 16200\n",
      "INFO:tensorflow:Sample: 16300\n",
      "INFO:tensorflow:Sample: 16400\n",
      "INFO:tensorflow:Sample: 16500\n",
      "INFO:tensorflow:Sample: 16600\n",
      "INFO:tensorflow:Sample: 16700\n",
      "INFO:tensorflow:Sample: 16800\n",
      "INFO:tensorflow:Sample: 16900\n",
      "INFO:tensorflow:Sample: 17000\n",
      "INFO:tensorflow:Sample: 17100\n",
      "INFO:tensorflow:Sample: 17200\n",
      "INFO:tensorflow:Sample: 17300\n",
      "INFO:tensorflow:Sample: 17400\n",
      "INFO:tensorflow:Sample: 17500\n",
      "INFO:tensorflow:Sample: 17600\n",
      "INFO:tensorflow:Sample: 17700\n",
      "INFO:tensorflow:Sample: 17800\n",
      "INFO:tensorflow:Sample: 17900\n",
      "INFO:tensorflow:Sample: 18000\n",
      "INFO:tensorflow:Sample: 18100\n",
      "INFO:tensorflow:Sample: 18200\n",
      "INFO:tensorflow:Sample: 18300\n",
      "INFO:tensorflow:Sample: 18400\n",
      "INFO:tensorflow:Sample: 18500\n",
      "INFO:tensorflow:Sample: 18600\n",
      "INFO:tensorflow:Sample: 18700\n",
      "INFO:tensorflow:Sample: 18800\n",
      "INFO:tensorflow:Sample: 18900\n",
      "INFO:tensorflow:Sample: 19000\n",
      "INFO:tensorflow:Sample: 19100\n",
      "INFO:tensorflow:Sample: 19200\n",
      "INFO:tensorflow:Sample: 19300\n",
      "INFO:tensorflow:Sample: 19400\n",
      "INFO:tensorflow:Sample: 19500\n",
      "INFO:tensorflow:Sample: 19600\n",
      "INFO:tensorflow:Sample: 19700\n",
      "INFO:tensorflow:Sample: 19800\n",
      "INFO:tensorflow:Sample: 19900\n",
      "INFO:tensorflow:Sample: 20000\n",
      "INFO:tensorflow:Sample: 20100\n",
      "INFO:tensorflow:Sample: 20200\n",
      "INFO:tensorflow:Sample: 20300\n",
      "INFO:tensorflow:Sample: 20400\n",
      "INFO:tensorflow:Sample: 20500\n",
      "INFO:tensorflow:Sample: 20600\n",
      "INFO:tensorflow:Sample: 20700\n",
      "INFO:tensorflow:Sample: 20800\n",
      "INFO:tensorflow:Sample: 20900\n",
      "INFO:tensorflow:Sample: 21000\n",
      "INFO:tensorflow:Sample: 21100\n",
      "INFO:tensorflow:Sample: 21200\n",
      "INFO:tensorflow:Sample: 21300\n",
      "INFO:tensorflow:Sample: 21400\n",
      "INFO:tensorflow:Sample: 21500\n",
      "INFO:tensorflow:Sample: 21600\n",
      "INFO:tensorflow:Sample: 21700\n",
      "INFO:tensorflow:Sample: 21800\n",
      "INFO:tensorflow:Sample: 21900\n",
      "INFO:tensorflow:Sample: 22000\n",
      "INFO:tensorflow:Sample: 22100\n",
      "INFO:tensorflow:Sample: 22200\n",
      "INFO:tensorflow:Sample: 22300\n",
      "INFO:tensorflow:Sample: 22400\n",
      "INFO:tensorflow:Sample: 22500\n",
      "INFO:tensorflow:Sample: 22600\n",
      "INFO:tensorflow:Sample: 22700\n",
      "INFO:tensorflow:Sample: 22800\n",
      "INFO:tensorflow:Sample: 22900\n",
      "INFO:tensorflow:Sample: 23000\n",
      "INFO:tensorflow:Sample: 23100\n",
      "INFO:tensorflow:Sample: 23200\n",
      "INFO:tensorflow:Sample: 23300\n",
      "INFO:tensorflow:Sample: 23400\n",
      "INFO:tensorflow:Sample: 23500\n",
      "INFO:tensorflow:Sample: 23600\n",
      "INFO:tensorflow:Sample: 23700\n",
      "INFO:tensorflow:Sample: 23800\n",
      "INFO:tensorflow:Sample: 23900\n",
      "INFO:tensorflow:Sample: 24000\n",
      "INFO:tensorflow:Sample: 24100\n",
      "INFO:tensorflow:Sample: 24200\n",
      "INFO:tensorflow:Sample: 24300\n",
      "INFO:tensorflow:Sample: 24400\n",
      "INFO:tensorflow:Sample: 24500\n",
      "INFO:tensorflow:Sample: 24600\n",
      "INFO:tensorflow:Sample: 24700\n",
      "INFO:tensorflow:Sample: 24800\n",
      "INFO:tensorflow:Sample: 24900\n",
      "INFO:tensorflow:Sample: 25000\n",
      "INFO:tensorflow:Sample: 25100\n",
      "INFO:tensorflow:Sample: 25200\n",
      "INFO:tensorflow:Sample: 25300\n",
      "INFO:tensorflow:Sample: 25400\n",
      "INFO:tensorflow:Sample: 25500\n",
      "INFO:tensorflow:Sample: 25600\n",
      "INFO:tensorflow:Sample: 25700\n",
      "INFO:tensorflow:Sample: 25800\n",
      "INFO:tensorflow:Sample: 25900\n",
      "INFO:tensorflow:Sample: 26000\n",
      "INFO:tensorflow:Sample: 26100\n",
      "INFO:tensorflow:Sample: 26200\n",
      "INFO:tensorflow:Sample: 26300\n",
      "INFO:tensorflow:Sample: 26400\n",
      "INFO:tensorflow:Sample: 26500\n",
      "INFO:tensorflow:Sample: 26600\n",
      "INFO:tensorflow:Sample: 26700\n",
      "INFO:tensorflow:Sample: 26800\n",
      "INFO:tensorflow:Sample: 26900\n",
      "INFO:tensorflow:Sample: 27000\n"
     ]
    },
    {
     "name": "stdout",
     "output_type": "stream",
     "text": [
      "INFO:tensorflow:Sample: 27100\n",
      "INFO:tensorflow:Sample: 27200\n",
      "INFO:tensorflow:Sample: 27300\n",
      "INFO:tensorflow:Sample: 27400\n",
      "INFO:tensorflow:Sample: 27500\n",
      "INFO:tensorflow:Sample: 27600\n",
      "INFO:tensorflow:Sample: 27700\n",
      "INFO:tensorflow:Sample: 27800\n",
      "INFO:tensorflow:Sample: 27900\n",
      "INFO:tensorflow:Sample: 28000\n",
      "INFO:tensorflow:Sample: 28100\n",
      "INFO:tensorflow:Sample: 28200\n",
      "INFO:tensorflow:Sample: 28300\n",
      "INFO:tensorflow:Sample: 28400\n",
      "INFO:tensorflow:Sample: 28500\n",
      "INFO:tensorflow:Sample: 28600\n",
      "INFO:tensorflow:Sample: 28700\n",
      "INFO:tensorflow:Sample: 28800\n",
      "INFO:tensorflow:Sample: 28900\n",
      "INFO:tensorflow:Sample: 29000\n",
      "INFO:tensorflow:Sample: 29100\n",
      "INFO:tensorflow:Sample: 29200\n",
      "INFO:tensorflow:Sample: 29300\n",
      "INFO:tensorflow:Sample: 29400\n",
      "INFO:tensorflow:Sample: 29500\n",
      "INFO:tensorflow:Sample: 29600\n",
      "INFO:tensorflow:Sample: 29700\n",
      "INFO:tensorflow:Sample: 29800\n",
      "INFO:tensorflow:Sample: 29900\n",
      "INFO:tensorflow:Sample: 30000\n",
      "INFO:tensorflow:Sample: 30100\n",
      "INFO:tensorflow:Sample: 30200\n",
      "INFO:tensorflow:Sample: 30300\n",
      "INFO:tensorflow:Sample: 30400\n",
      "INFO:tensorflow:Sample: 30500\n",
      "INFO:tensorflow:Sample: 30600\n",
      "INFO:tensorflow:Sample: 30700\n",
      "INFO:tensorflow:Sample: 30800\n",
      "INFO:tensorflow:Sample: 30900\n",
      "INFO:tensorflow:Sample: 31000\n",
      "INFO:tensorflow:Sample: 31100\n",
      "INFO:tensorflow:Sample: 31200\n",
      "INFO:tensorflow:Sample: 31300\n",
      "INFO:tensorflow:Sample: 31400\n",
      "INFO:tensorflow:Sample: 31500\n",
      "INFO:tensorflow:Sample: 31600\n",
      "INFO:tensorflow:Sample: 31700\n",
      "INFO:tensorflow:Saving: gen_213259__maurolupo__girl-sings-laa.wav\n"
     ]
    }
   ],
   "source": [
    "# from https://www.freesound.org/people/maurolupo/sounds/213259/\n",
    "fname = '213259__maurolupo__girl-sings-laa.wav'\n",
    "sample_length = 32000\n",
    "audio, encoding = load_encoding(fname, sample_length)\n",
    "fastgen.synthesize(\n",
    "    encoding,\n",
    "    save_paths=['gen_' + fname],\n",
    "    samples_per_save=sample_length)\n",
    "synthesis = utils.load_audio('gen_' + fname,\n",
    "                             sample_length=sample_length,\n",
    "                             sr=sr)"
   ]
  },
  {
   "cell_type": "markdown",
   "metadata": {},
   "source": [
    "Aside from the quality of the reconstruction, what we're really after is what is possible with such a model.  Let's look at two examples now."
   ]
  },
  {
   "cell_type": "markdown",
   "metadata": {},
   "source": [
    "# Part 2: Timestretching\n",
    "\n",
    "Let's try something more fun.  We'll stretch the encodings a bit and see what it sounds like.  If you were to try and stretch audio directly, you'd hear a pitch shift.  There are some other ways of stretching audio without shifting pitch, like granular synthesis.  But it turns out that NSynth can also timestretch.  Let's see how.  First we'll use image interpolation to help stretch the encodings."
   ]
  },
  {
   "cell_type": "code",
   "execution_count": 14,
   "metadata": {},
   "outputs": [
    {
     "name": "stdout",
     "output_type": "stream",
     "text": [
      "Collecting scikit-image\n",
      "  Using cached scikit_image-0.13.0-cp27-cp27m-macosx_10_6_intel.macosx_10_9_intel.macosx_10_9_x86_64.macosx_10_10_intel.macosx_10_10_x86_64.whl\n",
      "Collecting networkx>=1.8 (from scikit-image)\n",
      "  Using cached networkx-1.11-py2.py3-none-any.whl\n",
      "Requirement already satisfied: scipy>=0.17.0 in /Users/gulli/miniconda2/envs/magenta/lib/python2.7/site-packages (from scikit-image)\n",
      "Collecting PyWavelets>=0.4.0 (from scikit-image)\n",
      "  Using cached PyWavelets-0.5.2-cp27-cp27m-macosx_10_6_intel.macosx_10_9_intel.macosx_10_9_x86_64.macosx_10_10_intel.macosx_10_10_x86_64.whl\n",
      "Requirement already satisfied: matplotlib>=1.3.1 in /Users/gulli/miniconda2/envs/magenta/lib/python2.7/site-packages (from scikit-image)\n",
      "Requirement already satisfied: six>=1.7.3 in /Users/gulli/miniconda2/envs/magenta/lib/python2.7/site-packages (from scikit-image)\n",
      "Requirement already satisfied: pillow>=2.1.0 in /Users/gulli/miniconda2/envs/magenta/lib/python2.7/site-packages (from scikit-image)\n",
      "Requirement already satisfied: decorator>=3.4.0 in /Users/gulli/miniconda2/envs/magenta/lib/python2.7/site-packages (from networkx>=1.8->scikit-image)\n",
      "Requirement already satisfied: numpy>=1.8.2 in /Users/gulli/miniconda2/envs/magenta/lib/python2.7/site-packages (from scipy>=0.17.0->scikit-image)\n",
      "Requirement already satisfied: pyparsing!=2.0.4,!=2.1.2,!=2.1.6,>=1.5.6 in /Users/gulli/miniconda2/envs/magenta/lib/python2.7/site-packages (from matplotlib>=1.3.1->scikit-image)\n",
      "Requirement already satisfied: cycler>=0.10 in /Users/gulli/miniconda2/envs/magenta/lib/python2.7/site-packages (from matplotlib>=1.3.1->scikit-image)\n",
      "Requirement already satisfied: pytz in /Users/gulli/miniconda2/envs/magenta/lib/python2.7/site-packages (from matplotlib>=1.3.1->scikit-image)\n",
      "Requirement already satisfied: python-dateutil in /Users/gulli/miniconda2/envs/magenta/lib/python2.7/site-packages (from matplotlib>=1.3.1->scikit-image)\n",
      "Requirement already satisfied: functools32 in /Users/gulli/miniconda2/envs/magenta/lib/python2.7/site-packages (from matplotlib>=1.3.1->scikit-image)\n",
      "Requirement already satisfied: subprocess32 in /Users/gulli/miniconda2/envs/magenta/lib/python2.7/site-packages (from matplotlib>=1.3.1->scikit-image)\n",
      "Requirement already satisfied: olefile in /Users/gulli/miniconda2/envs/magenta/lib/python2.7/site-packages (from pillow>=2.1.0->scikit-image)\n",
      "Installing collected packages: networkx, PyWavelets, scikit-image\n",
      "Successfully installed PyWavelets-0.5.2 networkx-1.11 scikit-image-0.13.0\n"
     ]
    }
   ],
   "source": [
    "# use image interpolation to stretch the encoding: (pip install scikit-image)\n",
    "try:\n",
    "    from skimage.transform import resize\n",
    "except ImportError:\n",
    "    !pip install scikit-image\n",
    "    from skimage.transform import resize"
   ]
  },
  {
   "cell_type": "markdown",
   "metadata": {},
   "source": [
    "Here's a utility function to help you stretch your own encoding.  It uses skimage.transform and will retain the range of values.  Images typically only have a range of 0-1, but the encodings aren't actually images so we'll keep track of their min/max in order to stretch them like images."
   ]
  },
  {
   "cell_type": "code",
   "execution_count": 15,
   "metadata": {
    "collapsed": true
   },
   "outputs": [],
   "source": [
    "def timestretch(encodings, factor):\n",
    "    min_encoding, max_encoding = encoding.min(), encoding.max()\n",
    "    encodings_norm = (encodings - min_encoding) / (max_encoding - min_encoding)\n",
    "    timestretches = []\n",
    "    for encoding_i in encodings_norm:\n",
    "        stretched = resize(encoding_i, (int(encoding_i.shape[0] * factor), encoding_i.shape[1]), mode='reflect')\n",
    "        stretched = (stretched * (max_encoding - min_encoding)) + min_encoding\n",
    "        timestretches.append(stretched)\n",
    "    return np.array(timestretches)"
   ]
  },
  {
   "cell_type": "code",
   "execution_count": 16,
   "metadata": {},
   "outputs": [
    {
     "name": "stdout",
     "output_type": "stream",
     "text": [
      "INFO:tensorflow:Restoring parameters from model.ckpt-200000\n"
     ]
    }
   ],
   "source": [
    "# from https://www.freesound.org/people/MustardPlug/sounds/395058/\n",
    "fname = '395058__mustardplug__breakbeat-hiphop-a4-4bar-96bpm.wav'\n",
    "sample_length = 40000\n",
    "audio, encoding = load_encoding(fname, sample_length)"
   ]
  },
  {
   "cell_type": "markdown",
   "metadata": {},
   "source": [
    "Now let's stretch the encodings with a few different factors:"
   ]
  },
  {
   "cell_type": "code",
   "execution_count": 17,
   "metadata": {},
   "outputs": [
    {
     "ename": "IOError",
     "evalue": "[Errno 2] No such file or directory: '/Users/gulli/magenta/demos/nsynth/gen_slower_395058__mustardplug__breakbeat-hiphop-a4-4bar-96bpm.wav'",
     "output_type": "error",
     "traceback": [
      "\u001b[0;31m---------------------------------------------------------------------------\u001b[0m",
      "\u001b[0;31mIOError\u001b[0m                                   Traceback (most recent call last)",
      "\u001b[0;32m<ipython-input-17-d6008e74b59f>\u001b[0m in \u001b[0;36m<module>\u001b[0;34m()\u001b[0m\n\u001b[0;32m----> 1\u001b[0;31m \u001b[0maudio\u001b[0m \u001b[0;34m=\u001b[0m \u001b[0mutils\u001b[0m\u001b[0;34m.\u001b[0m\u001b[0mload_audio\u001b[0m\u001b[0;34m(\u001b[0m\u001b[0;34m'gen_slower_'\u001b[0m \u001b[0;34m+\u001b[0m \u001b[0mfname\u001b[0m\u001b[0;34m,\u001b[0m \u001b[0msample_length\u001b[0m\u001b[0;34m=\u001b[0m\u001b[0mNone\u001b[0m\u001b[0;34m,\u001b[0m \u001b[0msr\u001b[0m\u001b[0;34m=\u001b[0m\u001b[0msr\u001b[0m\u001b[0;34m)\u001b[0m\u001b[0;34m\u001b[0m\u001b[0m\n\u001b[0m\u001b[1;32m      2\u001b[0m \u001b[0mAudio\u001b[0m\u001b[0;34m(\u001b[0m\u001b[0maudio\u001b[0m\u001b[0;34m,\u001b[0m \u001b[0mrate\u001b[0m\u001b[0;34m=\u001b[0m\u001b[0msr\u001b[0m\u001b[0;34m)\u001b[0m\u001b[0;34m\u001b[0m\u001b[0m\n",
      "\u001b[0;32m/Users/gulli/miniconda2/envs/magenta/lib/python2.7/site-packages/magenta/models/nsynth/utils.pyc\u001b[0m in \u001b[0;36mload_audio\u001b[0;34m(path, sample_length, sr)\u001b[0m\n\u001b[1;32m     62\u001b[0m     \u001b[0mout\u001b[0m\u001b[0;34m:\u001b[0m \u001b[0mThe\u001b[0m \u001b[0maudio\u001b[0m \u001b[0;32min\u001b[0m \u001b[0msamples\u001b[0m \u001b[0;32mfrom\u001b[0m \u001b[0;34m-\u001b[0m\u001b[0;36m1.0\u001b[0m \u001b[0mto\u001b[0m \u001b[0;36m1.0\u001b[0m\u001b[0;34m\u001b[0m\u001b[0m\n\u001b[1;32m     63\u001b[0m   \"\"\"\n\u001b[0;32m---> 64\u001b[0;31m   \u001b[0maudio\u001b[0m\u001b[0;34m,\u001b[0m \u001b[0m_\u001b[0m \u001b[0;34m=\u001b[0m \u001b[0mlibrosa\u001b[0m\u001b[0;34m.\u001b[0m\u001b[0mload\u001b[0m\u001b[0;34m(\u001b[0m\u001b[0mpath\u001b[0m\u001b[0;34m,\u001b[0m \u001b[0msr\u001b[0m\u001b[0;34m=\u001b[0m\u001b[0msr\u001b[0m\u001b[0;34m)\u001b[0m\u001b[0;34m\u001b[0m\u001b[0m\n\u001b[0m\u001b[1;32m     65\u001b[0m   \u001b[0maudio\u001b[0m \u001b[0;34m=\u001b[0m \u001b[0maudio\u001b[0m\u001b[0;34m[\u001b[0m\u001b[0;34m:\u001b[0m\u001b[0msample_length\u001b[0m\u001b[0;34m]\u001b[0m\u001b[0;34m\u001b[0m\u001b[0m\n\u001b[1;32m     66\u001b[0m   \u001b[0;32mreturn\u001b[0m \u001b[0maudio\u001b[0m\u001b[0;34m\u001b[0m\u001b[0m\n",
      "\u001b[0;32m/Users/gulli/miniconda2/envs/magenta/lib/python2.7/site-packages/librosa/core/audio.pyc\u001b[0m in \u001b[0;36mload\u001b[0;34m(path, sr, mono, offset, duration, dtype, res_type)\u001b[0m\n\u001b[1;32m    105\u001b[0m \u001b[0;34m\u001b[0m\u001b[0m\n\u001b[1;32m    106\u001b[0m     \u001b[0my\u001b[0m \u001b[0;34m=\u001b[0m \u001b[0;34m[\u001b[0m\u001b[0;34m]\u001b[0m\u001b[0;34m\u001b[0m\u001b[0m\n\u001b[0;32m--> 107\u001b[0;31m     \u001b[0;32mwith\u001b[0m \u001b[0maudioread\u001b[0m\u001b[0;34m.\u001b[0m\u001b[0maudio_open\u001b[0m\u001b[0;34m(\u001b[0m\u001b[0mos\u001b[0m\u001b[0;34m.\u001b[0m\u001b[0mpath\u001b[0m\u001b[0;34m.\u001b[0m\u001b[0mrealpath\u001b[0m\u001b[0;34m(\u001b[0m\u001b[0mpath\u001b[0m\u001b[0;34m)\u001b[0m\u001b[0;34m)\u001b[0m \u001b[0;32mas\u001b[0m \u001b[0minput_file\u001b[0m\u001b[0;34m:\u001b[0m\u001b[0;34m\u001b[0m\u001b[0m\n\u001b[0m\u001b[1;32m    108\u001b[0m         \u001b[0msr_native\u001b[0m \u001b[0;34m=\u001b[0m \u001b[0minput_file\u001b[0m\u001b[0;34m.\u001b[0m\u001b[0msamplerate\u001b[0m\u001b[0;34m\u001b[0m\u001b[0m\n\u001b[1;32m    109\u001b[0m         \u001b[0mn_channels\u001b[0m \u001b[0;34m=\u001b[0m \u001b[0minput_file\u001b[0m\u001b[0;34m.\u001b[0m\u001b[0mchannels\u001b[0m\u001b[0;34m\u001b[0m\u001b[0m\n",
      "\u001b[0;32m/Users/gulli/miniconda2/envs/magenta/lib/python2.7/site-packages/audioread/__init__.pyc\u001b[0m in \u001b[0;36maudio_open\u001b[0;34m(path)\u001b[0m\n\u001b[1;32m     78\u001b[0m     \u001b[0;32mfrom\u001b[0m \u001b[0;34m.\u001b[0m \u001b[0;32mimport\u001b[0m \u001b[0mrawread\u001b[0m\u001b[0;34m\u001b[0m\u001b[0m\n\u001b[1;32m     79\u001b[0m     \u001b[0;32mtry\u001b[0m\u001b[0;34m:\u001b[0m\u001b[0;34m\u001b[0m\u001b[0m\n\u001b[0;32m---> 80\u001b[0;31m         \u001b[0;32mreturn\u001b[0m \u001b[0mrawread\u001b[0m\u001b[0;34m.\u001b[0m\u001b[0mRawAudioFile\u001b[0m\u001b[0;34m(\u001b[0m\u001b[0mpath\u001b[0m\u001b[0;34m)\u001b[0m\u001b[0;34m\u001b[0m\u001b[0m\n\u001b[0m\u001b[1;32m     81\u001b[0m     \u001b[0;32mexcept\u001b[0m \u001b[0mDecodeError\u001b[0m\u001b[0;34m:\u001b[0m\u001b[0;34m\u001b[0m\u001b[0m\n\u001b[1;32m     82\u001b[0m         \u001b[0;32mpass\u001b[0m\u001b[0;34m\u001b[0m\u001b[0m\n",
      "\u001b[0;32m/Users/gulli/miniconda2/envs/magenta/lib/python2.7/site-packages/audioread/rawread.pyc\u001b[0m in \u001b[0;36m__init__\u001b[0;34m(self, filename)\u001b[0m\n\u001b[1;32m     59\u001b[0m     \"\"\"\n\u001b[1;32m     60\u001b[0m     \u001b[0;32mdef\u001b[0m \u001b[0m__init__\u001b[0m\u001b[0;34m(\u001b[0m\u001b[0mself\u001b[0m\u001b[0;34m,\u001b[0m \u001b[0mfilename\u001b[0m\u001b[0;34m)\u001b[0m\u001b[0;34m:\u001b[0m\u001b[0;34m\u001b[0m\u001b[0m\n\u001b[0;32m---> 61\u001b[0;31m         \u001b[0mself\u001b[0m\u001b[0;34m.\u001b[0m\u001b[0m_fh\u001b[0m \u001b[0;34m=\u001b[0m \u001b[0mopen\u001b[0m\u001b[0;34m(\u001b[0m\u001b[0mfilename\u001b[0m\u001b[0;34m,\u001b[0m \u001b[0;34m'rb'\u001b[0m\u001b[0;34m)\u001b[0m\u001b[0;34m\u001b[0m\u001b[0m\n\u001b[0m\u001b[1;32m     62\u001b[0m \u001b[0;34m\u001b[0m\u001b[0m\n\u001b[1;32m     63\u001b[0m         \u001b[0;32mtry\u001b[0m\u001b[0;34m:\u001b[0m\u001b[0;34m\u001b[0m\u001b[0m\n",
      "\u001b[0;31mIOError\u001b[0m: [Errno 2] No such file or directory: '/Users/gulli/magenta/demos/nsynth/gen_slower_395058__mustardplug__breakbeat-hiphop-a4-4bar-96bpm.wav'"
     ]
    }
   ],
   "source": [
    "audio = utils.load_audio('gen_slower_' + fname, sample_length=None, sr=sr)\n",
    "Audio(audio, rate=sr)"
   ]
  },
  {
   "cell_type": "code",
   "execution_count": null,
   "metadata": {
    "collapsed": true
   },
   "outputs": [],
   "source": [
    "encoding_slower = timestretch(encoding, 1.5)\n",
    "encoding_faster = timestretch(encoding, 0.5)"
   ]
  },
  {
   "cell_type": "markdown",
   "metadata": {},
   "source": [
    "Basically we've made a slower and faster version of the amen break's encodings.  The original encoding is shown in black:"
   ]
  },
  {
   "cell_type": "code",
   "execution_count": null,
   "metadata": {},
   "outputs": [],
   "source": [
    "fig, axs = plt.subplots(3, 1, figsize=(10, 7), sharex=True, sharey=True)\n",
    "axs[0].plot(encoding[0]); \n",
    "axs[0].set_title('Encoding (Normal Speed)')\n",
    "axs[1].plot(encoding_faster[0]);\n",
    "axs[1].set_title('Encoding (Faster))')\n",
    "axs[2].plot(encoding_slower[0]);\n",
    "axs[2].set_title('Encoding (Slower)')"
   ]
  },
  {
   "cell_type": "markdown",
   "metadata": {},
   "source": [
    "Now let's decode them:"
   ]
  },
  {
   "cell_type": "code",
   "execution_count": null,
   "metadata": {
    "collapsed": true,
    "scrolled": true
   },
   "outputs": [],
   "source": [
    "fastgen.synthesize(encoding_faster, save_paths=['gen_faster_' + fname])\n",
    "fastgen.synthesize(encoding_slower, save_paths=['gen_slower_' + fname])"
   ]
  },
  {
   "cell_type": "markdown",
   "metadata": {},
   "source": [
    "It seems to work pretty well and retains the pitch and timbre of the original sound.  We could even quickly layer the sounds just by adding them.  You might want to do this in a program like Logic or Ableton Live instead and explore more possiblities of these sounds!"
   ]
  },
  {
   "cell_type": "markdown",
   "metadata": {},
   "source": [
    "# Part 3: Interpolating Sounds\n",
    "\n",
    "Now let's try something more experimental.  NSynth released plenty of great examples of what happens when you mix the embeddings of different sounds: https://magenta.tensorflow.org/nsynth-instrument - we're going to do the same but now with our own sounds!\n",
    "\n",
    "First let's load some encodings:"
   ]
  },
  {
   "cell_type": "code",
   "execution_count": null,
   "metadata": {},
   "outputs": [],
   "source": [
    "sample_length = 80000\n",
    "\n",
    "# from https://www.freesound.org/people/MustardPlug/sounds/395058/\n",
    "aud1, enc1 = load_encoding('395058__mustardplug__breakbeat-hiphop-a4-4bar-96bpm.wav', sample_length)\n",
    "\n",
    "# from https://www.freesound.org/people/xserra/sounds/176098/\n",
    "aud2, enc2 = load_encoding('176098__xserra__cello-cant-dels-ocells.wav', sample_length)"
   ]
  },
  {
   "cell_type": "markdown",
   "metadata": {},
   "source": [
    "Now we'll mix the two audio signals together.  But this is unlike adding the two signals together in a Ableton or simply hearing both sounds at the same time.  Instead, we're averaging the representation of their timbres, tonality, change over time, and resulting audio signal.  This is way more powerful than a simple averaging."
   ]
  },
  {
   "cell_type": "code",
   "execution_count": null,
   "metadata": {
    "collapsed": true
   },
   "outputs": [],
   "source": [
    "enc_mix = (enc1 + enc2) / 2.0"
   ]
  },
  {
   "cell_type": "code",
   "execution_count": null,
   "metadata": {},
   "outputs": [],
   "source": [
    "fig, axs = plt.subplots(3, 1, figsize=(10, 7))\n",
    "axs[0].plot(enc1[0]); \n",
    "axs[0].set_title('Encoding 1')\n",
    "axs[1].plot(enc2[0]);\n",
    "axs[1].set_title('Encoding 2')\n",
    "axs[2].plot(enc_mix[0]);\n",
    "axs[2].set_title('Average')"
   ]
  },
  {
   "cell_type": "code",
   "execution_count": null,
   "metadata": {
    "collapsed": true
   },
   "outputs": [],
   "source": [
    "fastgen.synthesize(enc_mix, save_paths='mix.wav')"
   ]
  },
  {
   "cell_type": "markdown",
   "metadata": {},
   "source": [
    "As another example of what's possible with interpolation of embeddings, we'll try crossfading between the two embeddings.  To do this, we'll write a utility function which will use a hanning window to apply a fade in or out to the embeddings matrix:"
   ]
  },
  {
   "cell_type": "code",
   "execution_count": null,
   "metadata": {
    "collapsed": true
   },
   "outputs": [],
   "source": [
    "def fade(encoding, mode='in'):\n",
    "    length = encoding.shape[1]\n",
    "    fadein = (0.5 * (1.0 - np.cos(3.1415 * np.arange(length) / \n",
    "                                  float(length)))).reshape(1, -1, 1)\n",
    "    if mode == 'in':\n",
    "        return fadein * encoding\n",
    "    else:\n",
    "        return (1.0 - fadein) * encoding"
   ]
  },
  {
   "cell_type": "code",
   "execution_count": null,
   "metadata": {},
   "outputs": [],
   "source": [
    "fig, axs = plt.subplots(3, 1, figsize=(10, 7))\n",
    "axs[0].plot(enc1[0]); \n",
    "axs[0].set_title('Original Encoding')\n",
    "axs[1].plot(fade(enc1, 'in')[0]);\n",
    "axs[1].set_title('Fade In')\n",
    "axs[2].plot(fade(enc1, 'out')[0]);\n",
    "axs[2].set_title('Fade Out')"
   ]
  },
  {
   "cell_type": "markdown",
   "metadata": {},
   "source": [
    "Now we can cross fade two different encodings by adding their repsective fade ins and out:"
   ]
  },
  {
   "cell_type": "code",
   "execution_count": null,
   "metadata": {
    "collapsed": true
   },
   "outputs": [],
   "source": [
    "def crossfade(encoding1, encoding2):\n",
    "    return fade(encoding1, 'out') + fade(encoding2, 'in')"
   ]
  },
  {
   "cell_type": "code",
   "execution_count": null,
   "metadata": {},
   "outputs": [],
   "source": [
    "fig, axs = plt.subplots(3, 1, figsize=(10, 7))\n",
    "axs[0].plot(enc1[0]); \n",
    "axs[0].set_title('Encoding 1')\n",
    "axs[1].plot(enc2[0]);\n",
    "axs[1].set_title('Encoding 2')\n",
    "axs[2].plot(crossfade(enc1, enc2)[0]);\n",
    "axs[2].set_title('Crossfade')"
   ]
  },
  {
   "cell_type": "markdown",
   "metadata": {},
   "source": [
    "Now let's synthesize the resulting encodings:"
   ]
  },
  {
   "cell_type": "code",
   "execution_count": null,
   "metadata": {
    "collapsed": true,
    "scrolled": true
   },
   "outputs": [],
   "source": [
    "fastgen.synthesize(crossfade(enc1, enc2), save_paths=['crossfade.wav'])"
   ]
  },
  {
   "cell_type": "markdown",
   "metadata": {},
   "source": [
    "There is a lot to explore with NSynth.  So far I've just shown you a taste of what's possible when you are able to generate your own sounds.  I expect the generation process will soon get much faster, especially with help from the community, and for more unexpected and interesting applications to emerge.  Please keep in touch with whatever you end up creating, either personally via [twitter](https://twitter.com/pkmital), in our [Creative Applications of Deep Learning](https://www.kadenze.com/programs/creative-applications-of-deep-learning-with-tensorflow) community on Kadenze, or the [Magenta Google Group](https://groups.google.com/a/tensorflow.org/forum/#!forum/magenta-discuss)."
   ]
  }
 ],
 "metadata": {
  "kernelspec": {
   "display_name": "Python 2",
   "language": "python",
   "name": "python2"
  },
  "language_info": {
   "codemirror_mode": {
    "name": "ipython",
    "version": 2
   },
   "file_extension": ".py",
   "mimetype": "text/x-python",
   "name": "python",
   "nbconvert_exporter": "python",
   "pygments_lexer": "ipython2",
   "version": "2.7.13"
  }
 },
 "nbformat": 4,
 "nbformat_minor": 2
}
