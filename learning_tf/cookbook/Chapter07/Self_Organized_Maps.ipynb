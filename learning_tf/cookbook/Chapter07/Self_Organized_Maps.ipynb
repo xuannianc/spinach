{
 "cells": [
  {
   "cell_type": "code",
   "execution_count": 2,
   "metadata": {
    "collapsed": true
   },
   "outputs": [],
   "source": [
    "import tensorflow as tf\n",
    "import numpy as np\n",
    "import matplotlib.pyplot as plt\n",
    "\n",
    "%matplotlib inline"
   ]
  },
  {
   "cell_type": "code",
   "execution_count": 3,
   "metadata": {
    "collapsed": true
   },
   "outputs": [],
   "source": [
    "# Define the Winner Take All units\n",
    "class WTU(object):\n",
    "    \n",
    "    #_learned = False\n",
    "    \n",
    "    def __init__(self, m, n, dim, num_iterations, eta = 0.5, sigma = None):\n",
    "        \"\"\"\n",
    "        m x n : The dimension of 2D lattice in which neurons are arranged\n",
    "        dim : Dimension of input training data\n",
    "        num_iterations: Total number of training iterations\n",
    "        eta : Learning rate\n",
    "        sigma: The radius of neighbourhood function.\n",
    "        \"\"\"\n",
    "        self._m = m\n",
    "        self._n = n\n",
    "        self._neighbourhood = []\n",
    "        self._topography = []\n",
    "        self._num_iterations = int(num_iterations) \n",
    "        self._learned = False\n",
    "        \n",
    "        eta = float(eta)\n",
    "           \n",
    "        if sigma is None:\n",
    "            sigma = max(m,n)/2.0    # Constant radius\n",
    "        else:\n",
    "            sigma = float(sigma)\n",
    "        \n",
    "            \n",
    "        print('Network created with dimensions',m,n)\n",
    "            \n",
    "        self._graph = tf.Graph()\n",
    "        \n",
    "        # Build Computation Graph of SOM\n",
    "        \n",
    "        with self._graph.as_default():\n",
    "            # Weight Matrix and the topography of neurons\n",
    "            self._W = tf.Variable(tf.random_normal([m*n, dim], seed = 0))\n",
    "            self._topography = tf.constant(np.array(list(self._neuron_location(m, n))))\n",
    "            \n",
    "            # Placeholders for training data\n",
    "            self._X = tf.placeholder('float', [dim])\n",
    "            \n",
    "            # Placeholder to keep track of number of iterations\n",
    "            self._iter = tf.placeholder('float')\n",
    "            \n",
    "            # Finding the Winner and its location\n",
    "            d = tf.sqrt(tf.reduce_sum(tf.pow(self._W - tf.stack([self._X \n",
    "                                                for i in range(m*n)]),2),1))\n",
    "            self.WTU_idx = tf.argmin(d,0)\n",
    "            \n",
    "            slice_start = tf.pad(tf.reshape(self.WTU_idx, [1]),np.array([[0,1]]))\n",
    "            self.WTU_loc = tf.reshape(tf.slice(self._topography, slice_start,[1,2]), [2])\n",
    "            \n",
    "            \n",
    "            # Change learning rate and radius as a function of iterations\n",
    "            learning_rate = 1 - self._iter/self._num_iterations\n",
    "            _eta_new = eta * learning_rate\n",
    "            _sigma_new = sigma * learning_rate\n",
    "            \n",
    "            \n",
    "            # Calculating Neighbourhood function\n",
    "            distance_square = tf.reduce_sum(tf.pow(tf.subtract(\n",
    "                self._topography, tf.stack([self.WTU_loc for i in range(m * n)])), 2), 1)\n",
    "            neighbourhood_func = tf.exp(tf.negative(tf.div(tf.cast(\n",
    "                distance_square, \"float32\"), tf.pow(_sigma_new, 2))))\n",
    "            \n",
    "            # multiply learning rate with neighbourhood func\n",
    "            eta_into_Gamma = tf.multiply(_eta_new, neighbourhood_func)\n",
    "            \n",
    "            # Shape it so that it can be multiplied to calculate dW\n",
    "            weight_multiplier = tf.stack([tf.tile(tf.slice(\n",
    "                eta_into_Gamma, np.array([i]), np.array([1])), [dim])\n",
    "                for i in range(m * n)])\n",
    "            delta_W = tf.multiply(weight_multiplier,\n",
    "                tf.subtract(tf.stack([self._X for i in range(m * n)]),self._W))\n",
    "            new_W = self._W + delta_W\n",
    "            self._training = tf.assign(self._W,new_W)\n",
    "            \n",
    "            # Initialize All variables\n",
    "            init = tf.global_variables_initializer()\n",
    "            \n",
    "            self._sess = tf.Session()\n",
    "            self._sess.run(init)\n",
    "            \n",
    "    def fit(self, X):\n",
    "        \"\"\"\n",
    "        Function to carry out training\n",
    "        \"\"\"\n",
    "        for i in range(self._num_iterations):\n",
    "            for x in X:\n",
    "                self._sess.run(self._training, feed_dict= {self._X:x, self._iter: i})\n",
    "            \n",
    "        \n",
    "        \n",
    "        # Store a centroid grid for easy retreival\n",
    "        centroid_grid = [[] for i in range(self._m)]\n",
    "        self._Wts = list(self._sess.run(self._W))\n",
    "        self._locations = list(self._sess.run(self._topography))\n",
    "        for i, loc in enumerate(self._locations):\n",
    "            centroid_grid[loc[0]].append(self._Wts[i])\n",
    "        self._centroid_grid = centroid_grid\n",
    "\n",
    "        self._learned = True\n",
    "    \n",
    "    def winner(self, x):\n",
    "        idx = self._sess.run([self.WTU_idx,self.WTU_loc], feed_dict = {self._X:x})\n",
    "        return idx\n",
    "             \n",
    "    def _neuron_location(self,m,n):\n",
    "        \"\"\"\n",
    "        Function to generate the 2D lattice of neurons\n",
    "        \"\"\"\n",
    "        for i in range(m):\n",
    "            for j in range(n):\n",
    "                yield np.array([i,j])\n",
    "                \n",
    "                \n",
    "    def get_centroids(self):\n",
    "        \"\"\"\n",
    "        Function to return a list of 'm' lists, with each inner list containing\n",
    "        the 'n' corresponding centroid locations as 1-D NumPy arrays.\n",
    "        \"\"\"\n",
    "        if not self._learned:\n",
    "            raise ValueError(\"SOM not trained yet\")\n",
    "        return self._centroid_grid\n",
    "\n",
    "    def map_vects(self, X):\n",
    "        \"\"\"\n",
    "        Function to map each input vector to the relevant neuron in the lattice\n",
    "        \"\"\"\n",
    "\n",
    "        if not self._learned:\n",
    "            raise ValueError(\"SOM not trained yet\")\n",
    "\n",
    "        to_return = []\n",
    "        for vect in X:\n",
    "            min_index = min([i for i in range(len(self._Wts))],\n",
    "                            key=lambda x: np.linalg.norm(vect -\n",
    "                                                         self._Wts[x]))\n",
    "            to_return.append(self._locations[min_index])\n",
    "\n",
    "        return to_return\n",
    "\n",
    "\n",
    "            \n",
    "        \n"
   ]
  },
  {
   "cell_type": "code",
   "execution_count": 4,
   "metadata": {
    "collapsed": true
   },
   "outputs": [],
   "source": [
    "def normalize(df):\n",
    "    result = df.copy()\n",
    "    for feature_name in df.columns:\n",
    "        max_value = df[feature_name].max()\n",
    "        min_value = df[feature_name].min()\n",
    "        result[feature_name] = (df[feature_name] - min_value) / (max_value - min_value)\n",
    "    return result"
   ]
  },
  {
   "cell_type": "code",
   "execution_count": 5,
   "metadata": {
    "collapsed": true
   },
   "outputs": [],
   "source": [
    "## Reading input data from file\n",
    "import pandas as pd\n",
    "\n",
    "df = pd.read_csv('colors.csv')  # The last column of data file is a label\n",
    "data = normalize(df[['R', 'G', 'B']]).values\n",
    "name = df['Color-Name'].values\n",
    "n_dim = len(df.columns) - 1\n"
   ]
  },
  {
   "cell_type": "code",
   "execution_count": 6,
   "metadata": {
    "collapsed": true
   },
   "outputs": [],
   "source": [
    "# Data for Training\n",
    "colors = data\n",
    "color_names = name"
   ]
  },
  {
   "cell_type": "code",
   "execution_count": 7,
   "metadata": {},
   "outputs": [
    {
     "name": "stdout",
     "output_type": "stream",
     "text": [
      "Network created with dimensions 30 30\n"
     ]
    },
    {
     "data": {
      "image/png": "[encoded data removed]",
      "text/plain": [
       "<matplotlib.figure.Figure at 0x1c01f139e80>"
      ]
     },
     "metadata": {},
     "output_type": "display_data"
    }
   ],
   "source": [
    "som = WTU(30, 30, n_dim, 400, sigma=10.0)\n",
    "som.fit(colors)\n",
    "\n",
    "# Get output grid\n",
    "image_grid = som.get_centroids()\n",
    "\n",
    "# Map colours to their closest neurons\n",
    "mapped = som.map_vects(colors)\n",
    "\n",
    "# Plot\n",
    "plt.imshow(image_grid)\n",
    "plt.title('Color Grid SOM')\n",
    "for i, m in enumerate(mapped):\n",
    "    plt.text(m[1], m[0], color_names[i], ha='center', va='center',\n",
    "             bbox=dict(facecolor='white', alpha=0.5, lw=0))\n"
   ]
  },
  {
   "cell_type": "code",
   "execution_count": 8,
   "metadata": {},
   "outputs": [
    {
     "name": "stdout",
     "output_type": "stream",
     "text": [
      "495 [16 15]\n"
     ]
    }
   ],
   "source": [
    "idx, loc = som.winner([0.5, 0.5, 0.5])\n",
    "print(idx, loc)"
   ]
  }
 ],
 "metadata": {
  "kernelspec": {
   "display_name": "Python [conda env:tf-gpu-1p3]",
   "language": "python",
   "name": "conda-env-tf-gpu-1p3-py"
  },
  "language_info": {
   "codemirror_mode": {
    "name": "ipython",
    "version": 3
   },
   "file_extension": ".py",
   "mimetype": "text/x-python",
   "name": "python",
   "nbconvert_exporter": "python",
   "pygments_lexer": "ipython3",
   "version": "3.5.4"
  }
 },
 "nbformat": 4,
 "nbformat_minor": 2
}
