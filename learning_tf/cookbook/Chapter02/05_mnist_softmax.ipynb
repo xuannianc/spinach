{
 "cells": [
  {
   "cell_type": "code",
   "execution_count": 1,
   "metadata": {},
   "outputs": [
    {
     "name": "stdout",
     "output_type": "stream",
     "text": [
      "Extracting MNIST_data/train-images-idx3-ubyte.gz\n",
      "Extracting MNIST_data/train-labels-idx1-ubyte.gz\n",
      "Extracting MNIST_data/t10k-images-idx3-ubyte.gz\n",
      "Extracting MNIST_data/t10k-labels-idx1-ubyte.gz\n"
     ]
    }
   ],
   "source": [
    "# The code performs logistic/softmax regression on the MNIST Dataset\n",
    "# It is based upon the tutorial given at Tensorflow.org : https://www.tensorflow.org/get_started/mnist/beginners\n",
    "# We have added few Tensorboard summaries to understand it better\n",
    "\n",
    "# Import Modules needed\n",
    "import tensorflow as tf\n",
    "import matplotlib.pyplot as plt,  matplotlib.image as mpimg\n",
    "%matplotlib inline\n",
    "\n",
    "# Import Input \n",
    "from tensorflow.examples.tutorials.mnist import input_data\n",
    "mnist = input_data.read_data_sets(\"MNIST_data/\", one_hot=True)\n",
    "\n",
    "\n"
   ]
  },
  {
   "cell_type": "code",
   "execution_count": 2,
   "metadata": {
    "collapsed": true
   },
   "outputs": [],
   "source": [
    "# Define Hyper Parameters of the model:\n",
    "learning_rate = 0.05\n",
    "batch_size = 100\n",
    "max_epochs = 100"
   ]
  },
  {
   "cell_type": "code",
   "execution_count": 3,
   "metadata": {},
   "outputs": [
    {
     "data": {
      "text/plain": [
       "<matplotlib.text.Text at 0x23cb5a81518>"
      ]
     },
     "execution_count": 3,
     "metadata": {},
     "output_type": "execute_result"
    },
    {
     "data": {
      "image/png": "[encoded data removed]",
      "text/plain": [
       "<matplotlib.figure.Figure at 0x23cb56b9080>"
      ]
     },
     "metadata": {},
     "output_type": "display_data"
    }
   ],
   "source": [
    "# Visualize the data\n",
    "i = 55\n",
    "img = mnist.train.images[i]\n",
    "img=img.reshape((28,28))\n",
    "plt.imshow(img,cmap='gray')\n",
    "plt.title(mnist.train.labels[i])"
   ]
  },
  {
   "cell_type": "code",
   "execution_count": 4,
   "metadata": {
    "collapsed": true
   },
   "outputs": [],
   "source": [
    "# Tensorflow graph inputs\n",
    "x = tf.placeholder(tf.float32, [None, 784], name='X')\n",
    "y = tf.placeholder(tf.float32, [None, 10],name='Y')"
   ]
  },
  {
   "cell_type": "code",
   "execution_count": 5,
   "metadata": {
    "collapsed": true
   },
   "outputs": [],
   "source": [
    "# Learning Variables\n",
    "W = tf.Variable(tf.zeros([784, 10]), name='W')\n",
    "b = tf.Variable(tf.zeros([10]), name='b')\n"
   ]
  },
  {
   "cell_type": "code",
   "execution_count": 6,
   "metadata": {
    "collapsed": true
   },
   "outputs": [],
   "source": [
    "# Define the model\n",
    "with tf.name_scope(\"wx_b\") as scope:\n",
    "    y_hat = tf.nn.softmax(tf.matmul(x,W) + b)"
   ]
  },
  {
   "cell_type": "code",
   "execution_count": 7,
   "metadata": {
    "collapsed": true
   },
   "outputs": [],
   "source": [
    "#Add summary ops to collect data while training\n",
    "w_h = tf.summary.histogram(\"weights\", W)\n",
    "b_h = tf.summary.histogram(\"biases\", b)"
   ]
  },
  {
   "cell_type": "code",
   "execution_count": 8,
   "metadata": {
    "collapsed": true
   },
   "outputs": [],
   "source": [
    "# Define the cross-entropy loss function\n",
    "with tf.name_scope('cross-entropy') as scope:\n",
    "    loss = tf.reduce_mean(tf.nn.softmax_cross_entropy_with_logits(labels=y, logits=y_hat))\n",
    "    tf.summary.scalar('cross-entropy', loss)\n",
    "    "
   ]
  },
  {
   "cell_type": "code",
   "execution_count": 9,
   "metadata": {
    "collapsed": true
   },
   "outputs": [],
   "source": [
    "# Choose the optimizer\n",
    "with tf.name_scope('Train') as scope:\n",
    "    optimizer = tf.train.GradientDescentOptimizer(0.01).minimize(loss)"
   ]
  },
  {
   "cell_type": "code",
   "execution_count": null,
   "metadata": {
    "collapsed": true
   },
   "outputs": [],
   "source": [
    "# Define ops to test trained model\n",
    "correct_prediction = tf.equal(tf.argmax(y_hat, 1), tf.argmax(y, 1))\n",
    "accuracy = tf.reduce_mean(tf.cast(correct_prediction, tf.float32))"
   ]
  },
  {
   "cell_type": "code",
   "execution_count": 11,
   "metadata": {
    "collapsed": true
   },
   "outputs": [],
   "source": [
    "# Initializing the variables\n",
    "init = tf.global_variables_initializer()\n"
   ]
  },
  {
   "cell_type": "code",
   "execution_count": 12,
   "metadata": {
    "collapsed": true
   },
   "outputs": [],
   "source": [
    "# Merge All summaries\n",
    "merged_summary_op = tf.summary.merge_all()"
   ]
  },
  {
   "cell_type": "code",
   "execution_count": 13,
   "metadata": {},
   "outputs": [
    {
     "name": "stdout",
     "output_type": "stream",
     "text": [
      "Epoch 0: Loss 2.250637441548434\n",
      "Epoch 1: Loss 2.0909123147617685\n",
      "Epoch 2: Loss 1.961304726817391\n",
      "Epoch 3: Loss 1.8826904947107488\n",
      "Epoch 4: Loss 1.8332543024149808\n",
      "Epoch 5: Loss 1.8014142487265847\n",
      "Epoch 6: Loss 1.7794645149057562\n",
      "Epoch 7: Loss 1.7633150293610313\n",
      "Epoch 8: Loss 1.750868919545954\n",
      "Epoch 9: Loss 1.7409239610758696\n",
      "Epoch 10: Loss 1.7327635704387319\n",
      "Epoch 11: Loss 1.7259209247068925\n",
      "Epoch 12: Loss 1.7200765184922653\n",
      "Epoch 13: Loss 1.7150074254382741\n",
      "Epoch 14: Loss 1.7105629732392051\n",
      "Epoch 15: Loss 1.7066086411476136\n",
      "Epoch 16: Loss 1.7030719780921937\n",
      "Epoch 17: Loss 1.6998750695315274\n",
      "Epoch 18: Loss 1.6969586805863814\n",
      "Epoch 19: Loss 1.6942723577672785\n",
      "Epoch 20: Loss 1.6917831217158925\n",
      "Epoch 21: Loss 1.6894430344755\n",
      "Epoch 22: Loss 1.6871924673427234\n",
      "Epoch 23: Loss 1.6849619973789562\n",
      "Epoch 24: Loss 1.6825617228854786\n",
      "Epoch 25: Loss 1.679472615068609\n",
      "Epoch 26: Loss 1.6742813853784042\n",
      "Epoch 27: Loss 1.6670515164462003\n",
      "Epoch 28: Loss 1.6613866899230263\n",
      "Epoch 29: Loss 1.6567579026655717\n",
      "Epoch 30: Loss 1.6523656353083525\n",
      "Epoch 31: Loss 1.648194577260451\n",
      "Epoch 32: Loss 1.6442665188962764\n",
      "Epoch 33: Loss 1.6406090131672946\n",
      "Epoch 34: Loss 1.6372782507809727\n",
      "Epoch 35: Loss 1.6342750826748935\n",
      "Epoch 36: Loss 1.6316023343259638\n",
      "Epoch 37: Loss 1.6292163107611917\n",
      "Epoch 38: Loss 1.627083955894817\n",
      "Epoch 39: Loss 1.625151891708374\n",
      "Epoch 40: Loss 1.623395596634258\n",
      "Epoch 41: Loss 1.6217725591226058\n",
      "Epoch 42: Loss 1.6202726106210188\n",
      "Epoch 43: Loss 1.6188621009479869\n",
      "Epoch 44: Loss 1.61754553491419\n",
      "Epoch 45: Loss 1.6162967278740623\n",
      "Epoch 46: Loss 1.6151180765845559\n",
      "Epoch 47: Loss 1.6139911796829918\n",
      "Epoch 48: Loss 1.6129282929680564\n",
      "Epoch 49: Loss 1.6119044132666154\n",
      "Epoch 50: Loss 1.6109310403737156\n",
      "Epoch 51: Loss 1.6099914607134733\n",
      "Epoch 52: Loss 1.609090700149536\n",
      "Epoch 53: Loss 1.60823002836921\n",
      "Epoch 54: Loss 1.6073956309665334\n",
      "Epoch 55: Loss 1.606584829200398\n",
      "Epoch 56: Loss 1.605816740989685\n",
      "Epoch 57: Loss 1.6050650377707048\n",
      "Epoch 58: Loss 1.6043416181477634\n",
      "Epoch 59: Loss 1.6036366787823764\n",
      "Epoch 60: Loss 1.602958100492304\n",
      "Epoch 61: Loss 1.6022983934662558\n",
      "Epoch 62: Loss 1.601654678258029\n",
      "Epoch 63: Loss 1.6010403561592101\n",
      "Epoch 64: Loss 1.6004306676171043\n",
      "Epoch 65: Loss 1.5998455500602722\n",
      "Epoch 66: Loss 1.5992759305780584\n",
      "Epoch 67: Loss 1.5987146282196045\n",
      "Epoch 68: Loss 1.5981726184758274\n",
      "Epoch 69: Loss 1.5976459035006436\n",
      "Epoch 70: Loss 1.5971321754022079\n",
      "Epoch 71: Loss 1.5966263669187373\n",
      "Epoch 72: Loss 1.59613530700857\n",
      "Epoch 73: Loss 1.5956569853695957\n",
      "Epoch 74: Loss 1.595184608372775\n",
      "Epoch 75: Loss 1.5947283653779463\n",
      "Epoch 76: Loss 1.5942823336341165\n",
      "Epoch 77: Loss 1.5938406662507492\n",
      "Epoch 78: Loss 1.5934169320626692\n",
      "Epoch 79: Loss 1.592994540387934\n",
      "Epoch 80: Loss 1.592581994750283\n",
      "Epoch 81: Loss 1.5921791280399669\n",
      "Epoch 82: Loss 1.5917877294800498\n",
      "Epoch 83: Loss 1.5913979604027488\n",
      "Epoch 84: Loss 1.5910226277871566\n",
      "Epoch 85: Loss 1.5906475175510753\n",
      "Epoch 86: Loss 1.5902841624346646\n",
      "Epoch 87: Loss 1.5899248957633971\n",
      "Epoch 88: Loss 1.58957210150632\n",
      "Epoch 89: Loss 1.589228289344094\n",
      "Epoch 90: Loss 1.5888881715861234\n",
      "Epoch 91: Loss 1.5885552321780811\n",
      "Epoch 92: Loss 1.5882277859341014\n",
      "Epoch 93: Loss 1.5879071083935825\n",
      "Epoch 94: Loss 1.5875906484777278\n",
      "Epoch 95: Loss 1.5872807639295405\n",
      "Epoch 96: Loss 1.5869747601855886\n",
      "Epoch 97: Loss 1.5866698317094283\n",
      "Epoch 98: Loss 1.5863799944790926\n",
      "Epoch 99: Loss 1.5860854231227528\n",
      "Done\n",
      "0.9091\n"
     ]
    }
   ],
   "source": [
    "with tf.Session() as sess:\n",
    "    sess.run(init)  # initialize all variables\n",
    "    summary_writer = tf.summary.FileWriter('graphs', sess.graph)  # Create an event file\n",
    "    \n",
    "    # Training\n",
    "    for epoch in range(max_epochs):\n",
    "        loss_avg = 0\n",
    "        num_of_batch = int(mnist.train.num_examples/batch_size)\n",
    "        for i in range(num_of_batch):\n",
    "            batch_xs, batch_ys = mnist.train.next_batch(100)  # get the next batch of data\n",
    "            _, l, summary_str = sess.run([optimizer,loss, merged_summary_op], feed_dict={x: batch_xs, y: batch_ys})  # Run the optimizer\n",
    "            loss_avg += l\n",
    "            summary_writer.add_summary(summary_str, epoch*num_of_batch + i)  # Add all summaries per batch\n",
    "            \n",
    "        loss_avg = loss_avg/num_of_batch\n",
    "        print('Epoch {0}: Loss {1}'.format(epoch, loss_avg))\n",
    "    \n",
    "    print('Done')\n",
    "    \n",
    "    print(sess.run(accuracy, feed_dict={x: mnist.test.images,y: mnist.test.labels}))\n",
    "    \n",
    "\n",
    "    "
   ]
  },
  {
   "cell_type": "code",
   "execution_count": null,
   "metadata": {
    "collapsed": true
   },
   "outputs": [],
   "source": []
  }
 ],
 "metadata": {
  "kernelspec": {
   "display_name": "Python [conda env:tensorflow]",
   "language": "python",
   "name": "conda-env-tensorflow-py"
  },
  "language_info": {
   "codemirror_mode": {
    "name": "ipython",
    "version": 3
   },
   "file_extension": ".py",
   "mimetype": "text/x-python",
   "name": "python",
   "nbconvert_exporter": "python",
   "pygments_lexer": "ipython3",
   "version": "3.5.3"
  }
 },
 "nbformat": 4,
 "nbformat_minor": 2
}
